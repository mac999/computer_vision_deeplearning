{
 "cells": [
  {
   "cell_type": "markdown",
   "metadata": {},
   "source": [
    "<h4>Torch tensor operation</h4>\n",
    "<h6>https://www.digitalocean.com/community/tutorials/pytorch-torch-max</h6>"
   ]
  },
  {
   "cell_type": "code",
   "execution_count": 6,
   "metadata": {},
   "outputs": [
    {
     "name": "stdout",
     "output_type": "stream",
     "text": [
      "tensor([[ 0.7452,  0.1951,  0.0831],\n",
      "        [-0.6578,  0.2996,  1.8307]])\n",
      "tensor([0.7452, 0.2996, 1.8307])\n",
      "tensor([0, 1, 1])\n"
     ]
    }
   ],
   "source": [
    "import torch \n",
    "\n",
    "p = torch.randn([2, 3])\n",
    "print(p)\n",
    "\n",
    "# Get the maximum along dim = 0 (axis = 0)\n",
    "max_elements, max_idxs = torch.max(p, dim=0)    # dim = reduce dim index\n",
    "print(max_elements)\n",
    "print(max_idxs)"
   ]
  },
  {
   "cell_type": "code",
   "execution_count": 8,
   "metadata": {},
   "outputs": [
    {
     "name": "stdout",
     "output_type": "stream",
     "text": [
      "tensor([0.7452, 1.8307])\n",
      "tensor([0, 2])\n"
     ]
    }
   ],
   "source": [
    "# Get the maximum along dim = 1 (axis = 1)\n",
    "max_elements, max_idxs = torch.max(p, dim=1)\n",
    "print(max_elements)\n",
    "print(max_idxs)"
   ]
  },
  {
   "cell_type": "code",
   "execution_count": 10,
   "metadata": {},
   "outputs": [
    {
     "name": "stdout",
     "output_type": "stream",
     "text": [
      "p = tensor([[-0.7120, -0.6302,  1.7040],\n",
      "        [-0.5967, -0.0245,  0.0625]])\n",
      "q = tensor([[ 0.7209,  0.2606, -1.4442],\n",
      "        [-0.3405, -0.0959,  0.0240]])\n",
      "tensor([[ 0.7209,  0.2606,  1.7040],\n",
      "        [-0.3405, -0.0245,  0.0625]])\n"
     ]
    }
   ],
   "source": [
    "p = torch.randn([2, 3])\n",
    "q = torch.randn([2, 3])\n",
    "\n",
    "print(\"p =\", p)\n",
    "print(\"q =\", q)\n",
    "\n",
    "# Compare elements of p and q and get the maximum\n",
    "max_elements = torch.max(p, q)\n",
    "\n",
    "print(max_elements)"
   ]
  },
  {
   "cell_type": "code",
   "execution_count": 6,
   "metadata": {},
   "outputs": [],
   "source": [
    "# https://linuxpip.org/pytorch-squeeze-unsqueeze/"
   ]
  },
  {
   "cell_type": "code",
   "execution_count": 7,
   "metadata": {},
   "outputs": [],
   "source": [
    "# https://www.tutorialspoint.com/how-to-squeeze-and-unsqueeze-a-tensor-in-pytorch"
   ]
  },
  {
   "cell_type": "code",
   "execution_count": 13,
   "metadata": {},
   "outputs": [
    {
     "name": "stdout",
     "output_type": "stream",
     "text": [
      "Original Tensor T:\n",
      " tensor([[[1., 1.]],\n",
      "\n",
      "        [[1., 1.]]])\n",
      "Size of T: torch.Size([2, 1, 2])\n",
      "Squeezed_T\n",
      ": tensor([[1., 1.],\n",
      "        [1., 1.]])\n",
      "Size of Squeezed_T: torch.Size([2, 2])\n"
     ]
    }
   ],
   "source": [
    "# Python program to squeeze and unsqueeze a tensor\n",
    "# import necessary library\n",
    "import torch\n",
    "\n",
    "# Create a tensor of all one\n",
    "T = torch.ones(2,1,2) # size 2x1x2\n",
    "print(\"Original Tensor T:\\n\", T )\n",
    "print(\"Size of T:\", T.size())\n",
    "\n",
    "# Squeeze the dimension of the tensor\n",
    "squeezed_T = torch.squeeze(T) # now size 2x2\n",
    "print(\"Squeezed_T\\n:\", squeezed_T )\n",
    "print(\"Size of Squeezed_T:\", squeezed_T.size())"
   ]
  },
  {
   "cell_type": "code",
   "execution_count": 15,
   "metadata": {},
   "outputs": [
    {
     "name": "stdout",
     "output_type": "stream",
     "text": [
      "Original Tensor T:\n",
      " tensor([1., 2., 3.])\n",
      "Shape of T: torch.Size([3])\n",
      "Size of T: torch.Size([3])\n",
      "Unsqueezed T\n",
      ": tensor([[1., 2., 3.]])\n",
      "Size of UnSqueezed T: torch.Size([1, 3])\n",
      "Unsqueezed T\n",
      ": tensor([[1.],\n",
      "        [2.],\n",
      "        [3.]])\n",
      "Size of Unsqueezed T: torch.Size([3, 1])\n"
     ]
    }
   ],
   "source": [
    "# Python program to squeeze and unsqueeze a tensor\n",
    "# import necessary library\n",
    "import torch\n",
    "\n",
    "# create a tensor\n",
    "T = torch.Tensor([1,2,3]) # size 3\n",
    "print(\"Original Tensor T:\\n\", T )\n",
    "print(\"Shape of T:\", T.shape)\n",
    "print(\"Size of T:\", T.size())\n",
    "\n",
    "# Squeeze the tensor in dimension o or column dim\n",
    "unsqueezed_T = torch.unsqueeze(T, dim = 0) # now size 1x3\n",
    "print(\"Unsqueezed T\\n:\", unsqueezed_T )\n",
    "print(\"Size of UnSqueezed T:\", unsqueezed_T.size())\n",
    "\n",
    "# Squeeze the tensor in dimension 1 or row dim\n",
    "unsqueezed_T = torch.unsqueeze(T, dim = 1) # now size 3x1\n",
    "print(\"Unsqueezed T\\n:\", unsqueezed_T )\n",
    "print(\"Size of Unsqueezed T:\", unsqueezed_T.size())"
   ]
  },
  {
   "cell_type": "markdown",
   "metadata": {},
   "source": [
    "<h4>Reshape</h4>\n",
    "</br>\n",
    "<h6>https://deeplizard.com/learn/video/fCVuiW9AFzY</h6)</br>\n",
    "<h6>https://www.tutorialspoint.com/how-to-flatten-an-input-tensor-by-reshaping-it-in-pytorch</h6>"
   ]
  },
  {
   "cell_type": "code",
   "execution_count": 16,
   "metadata": {},
   "outputs": [
    {
     "name": "stdout",
     "output_type": "stream",
     "text": [
      "Tensor:\n",
      " tensor([[[ 1,  2,  3],\n",
      "         [ 4,  5,  6]],\n",
      "\n",
      "        [[ 7,  8,  9],\n",
      "         [10, 11, 12]]])\n",
      "Size of Tensor: torch.Size([2, 2, 3])\n"
     ]
    }
   ],
   "source": [
    "import torch\n",
    "# define a torch tensor\n",
    "t = torch.tensor([[[1, 2, 3],\n",
    "   [4, 5, 6]],\n",
    "   [[7, 8, 9],\n",
    "   [10, 11, 12]]])\n",
    "print(\"Tensor:\\n\", t)\n",
    "print(\"Size of Tensor:\", t.size())"
   ]
  },
  {
   "cell_type": "code",
   "execution_count": 17,
   "metadata": {},
   "outputs": [
    {
     "name": "stdout",
     "output_type": "stream",
     "text": [
      "Flatten tensor:\n",
      " tensor([ 1,  2,  3,  4,  5,  6,  7,  8,  9, 10, 11, 12])\n"
     ]
    }
   ],
   "source": [
    "# flatten the above tensor using start_dims\n",
    "flatten_t = torch.flatten(t)\n",
    "print(\"Flatten tensor:\\n\", flatten_t)\n"
   ]
  },
  {
   "cell_type": "code",
   "execution_count": 18,
   "metadata": {},
   "outputs": [
    {
     "name": "stdout",
     "output_type": "stream",
     "text": [
      "Flatten tensor (start_dim=0):\n",
      " tensor([ 1,  2,  3,  4,  5,  6,  7,  8,  9, 10, 11, 12])\n"
     ]
    }
   ],
   "source": [
    "flatten_t0 = torch.flatten(t, start_dim=0)\n",
    "print(\"Flatten tensor (start_dim=0):\\n\", flatten_t0)"
   ]
  },
  {
   "cell_type": "code",
   "execution_count": 20,
   "metadata": {},
   "outputs": [
    {
     "name": "stdout",
     "output_type": "stream",
     "text": [
      "tensor([[[1, 2],\n",
      "         [3, 4]],\n",
      "\n",
      "        [[5, 6],\n",
      "         [7, 8]]])\n",
      "tensor([1, 2, 3, 4, 5, 6, 7, 8])\n",
      "tensor([[1, 2, 3, 4],\n",
      "        [5, 6, 7, 8]])\n"
     ]
    }
   ],
   "source": [
    "t = torch.tensor([[[1, 2],\n",
    "                    [3, 4]],\n",
    "                    [[5, 6],\n",
    "                    [7, 8]]])\n",
    "print(t)\n",
    "t2 = torch.flatten(t)\n",
    "print(t2)\n",
    "t3 = torch.flatten(t, start_dim=1)\n",
    "print(t3)"
   ]
  },
  {
   "cell_type": "code",
   "execution_count": 26,
   "metadata": {},
   "outputs": [
    {
     "name": "stdout",
     "output_type": "stream",
     "text": [
      "tensor([[[ 0,  1],\n",
      "         [ 2,  3],\n",
      "         [ 4,  5]],\n",
      "\n",
      "        [[ 6,  7],\n",
      "         [ 8,  9],\n",
      "         [10, 11]],\n",
      "\n",
      "        [[12, 13],\n",
      "         [14, 15],\n",
      "         [16, 17]],\n",
      "\n",
      "        [[18, 19],\n",
      "         [20, 21],\n",
      "         [22, 23]]])\n",
      "torch.Size([3, 2, 4])\n",
      "tensor([[[ 0,  6, 12, 18],\n",
      "         [ 1,  7, 13, 19]],\n",
      "\n",
      "        [[ 2,  8, 14, 20],\n",
      "         [ 3,  9, 15, 21]],\n",
      "\n",
      "        [[ 4, 10, 16, 22],\n",
      "         [ 5, 11, 17, 23]]])\n"
     ]
    },
    {
     "data": {
      "text/plain": [
       "tensor([[ 0,  6, 12, 18],\n",
       "        [ 1,  7, 13, 19],\n",
       "        [ 2,  8, 14, 20],\n",
       "        [ 3,  9, 15, 21],\n",
       "        [ 4, 10, 16, 22],\n",
       "        [ 5, 11, 17, 23]])"
      ]
     },
     "execution_count": 26,
     "metadata": {},
     "output_type": "execute_result"
    }
   ],
   "source": [
    "a = torch.rand(4, 3, 2) # size (4, 3, 2)\n",
    "a = torch.arange(24) # size \n",
    "a = torch.reshape(a, (4, 3, 2))\n",
    "print(a)\n",
    "\n",
    "a_t = a.permute(1, 2, 0) # size (3, 2, 4)\n",
    "print(a_t.size())\n",
    "print(a_t)\n",
    "\n",
    "a_t.view(-1, 4)"
   ]
  },
  {
   "cell_type": "markdown",
   "metadata": {},
   "source": [
    "<h4>torch view</h4>"
   ]
  },
  {
   "cell_type": "code",
   "execution_count": 31,
   "metadata": {},
   "outputs": [
    {
     "name": "stdout",
     "output_type": "stream",
     "text": [
      "(1536, 2048, 3)\n"
     ]
    },
    {
     "name": "stderr",
     "output_type": "stream",
     "text": [
      "C:\\Users\\MAC\\AppData\\Local\\Temp\\ipykernel_14024\\1170166365.py:6: DeprecationWarning: Starting with ImageIO v3 the behavior of this function will switch to that of iio.v3.imread. To keep the current behavior (and make this warning dissapear) use `import imageio.v2 as imageio` or call `imageio.v2.imread` directly.\n",
      "  cat = skio.imread('cat1.jpg')\n"
     ]
    }
   ],
   "source": [
    "import imageio as skio\n",
    "import matplotlib.pyplot as plt\n",
    "import numpy as np\n",
    "import torch\n",
    "\n",
    "cat = skio.imread('cat1.jpg')\n",
    "print(cat.shape)\n"
   ]
  },
  {
   "cell_type": "code",
   "execution_count": 32,
   "metadata": {},
   "outputs": [
    {
     "name": "stdout",
     "output_type": "stream",
     "text": [
      "(1536, 2048)\n",
      "(618, 1000)\n"
     ]
    },
    {
     "name": "stderr",
     "output_type": "stream",
     "text": [
      "C:\\Users\\MAC\\AppData\\Local\\Temp\\ipykernel_14024\\4209128490.py:5: DeprecationWarning: Starting with ImageIO v3 the behavior of this function will switch to that of iio.v3.imread. To keep the current behavior (and make this warning dissapear) use `import imageio.v2 as imageio` or call `imageio.v2.imread` directly.\n",
      "  im2 = np.mean(skio.imread('cat2.jpg'),axis=2)[:618,:1000]\n"
     ]
    },
    {
     "data": {
      "text/plain": [
       "(618, 1000)"
      ]
     },
     "execution_count": 32,
     "metadata": {},
     "output_type": "execute_result"
    }
   ],
   "source": [
    "im1 = np.mean(cat, axis=2)\n",
    "print(im1.shape)\n",
    "im1 = im1[:618,:1000]\n",
    "print(im1.shape)\n",
    "im2 = np.mean(skio.imread('cat2.jpg'),axis=2)[:618,:1000]\n",
    "\n",
    "im1.shape\n",
    "im2.shape"
   ]
  },
  {
   "cell_type": "code",
   "execution_count": 34,
   "metadata": {},
   "outputs": [
    {
     "name": "stdout",
     "output_type": "stream",
     "text": [
      "torch.Size([3, 2, 618, 1000])\n",
      "(3, 618, 2000)\n"
     ]
    }
   ],
   "source": [
    "m = np.stack([im1,im2])\n",
    "m = torch.from_numpy(np.stack([m,m,m]))\n",
    "print(m.size()) #torch.Size([3, 2, 618, 1100])\n",
    "\n",
    "reshape = m.view(3,618,1000*2).numpy()\n",
    "print(reshape.shape)"
   ]
  },
  {
   "cell_type": "code",
   "execution_count": null,
   "metadata": {},
   "outputs": [],
   "source": []
  }
 ],
 "metadata": {
  "kernelspec": {
   "display_name": "Python 3.9.12 ('venv_tf2': venv)",
   "language": "python",
   "name": "python3"
  },
  "language_info": {
   "codemirror_mode": {
    "name": "ipython",
    "version": 3
   },
   "file_extension": ".py",
   "mimetype": "text/x-python",
   "name": "python",
   "nbconvert_exporter": "python",
   "pygments_lexer": "ipython3",
   "version": "3.9.12"
  },
  "orig_nbformat": 4,
  "vscode": {
   "interpreter": {
    "hash": "37036070bb288437053500e32ff1f1ab8b12051cb9eaa765672148430c6401fd"
   }
  }
 },
 "nbformat": 4,
 "nbformat_minor": 2
}
