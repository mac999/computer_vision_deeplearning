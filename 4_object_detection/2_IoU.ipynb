{
 "cells": [
  {
   "cell_type": "code",
   "execution_count": 22,
   "metadata": {},
   "outputs": [],
   "source": [
    "def calc_iou(b1, b2):\n",
    "    # determine the (x, y)-coordinates of the intersection rectangle\n",
    "    xA = max(b1[0], b2[0])\n",
    "    yA = max(b1[1], b2[1])\n",
    "    xB = min(b1[2], b2[2])\n",
    "    yB = min(b1[3], b2[3])\n",
    "    # compute the area of intersection rectangle\n",
    "    area_intersect = (xB - xA) * (yB - yA)\n",
    "\n",
    "    # Calculate area of boxes\n",
    "    area_b1 = (b1[2] - b1[0]) * (b1[3] - b1[1])\n",
    "    area_b2 = (b2[2] - b2[0]) * (b2[3] - b2[1])\n",
    "\n",
    "    # areas - the intersection area\n",
    "    epsilon = 1e-6\n",
    "    iou = area_intersect / float(area_b1 + area_b2 - area_intersect + epsilon)\n",
    "    return iou\n"
   ]
  },
  {
   "cell_type": "code",
   "execution_count": 23,
   "metadata": {},
   "outputs": [
    {
     "data": {
      "text/plain": [
       "0.4999999950000001"
      ]
     },
     "execution_count": 23,
     "metadata": {},
     "output_type": "execute_result"
    }
   ],
   "source": [
    "b1 = [0, 0, 10, 10]\n",
    "b2 = [0, 5, 10, 10]\n",
    "\n",
    "iou = calc_iou(b1, b2)\n",
    "iou"
   ]
  },
  {
   "cell_type": "code",
   "execution_count": 24,
   "metadata": {},
   "outputs": [
    {
     "data": {
      "text/plain": [
       "0.0"
      ]
     },
     "execution_count": 24,
     "metadata": {},
     "output_type": "execute_result"
    }
   ],
   "source": [
    "b1 = [0, 0, 0, 0]\n",
    "b2 = [0, 0, 0, 0]\n",
    "\n",
    "iou = calc_iou(b1, b2)\n",
    "iou"
   ]
  },
  {
   "cell_type": "code",
   "execution_count": null,
   "metadata": {},
   "outputs": [],
   "source": []
  }
 ],
 "metadata": {
  "kernelspec": {
   "display_name": "Python 3.9.12 ('venv_tf2': venv)",
   "language": "python",
   "name": "python3"
  },
  "language_info": {
   "codemirror_mode": {
    "name": "ipython",
    "version": 3
   },
   "file_extension": ".py",
   "mimetype": "text/x-python",
   "name": "python",
   "nbconvert_exporter": "python",
   "pygments_lexer": "ipython3",
   "version": "3.9.12"
  },
  "orig_nbformat": 4,
  "vscode": {
   "interpreter": {
    "hash": "37036070bb288437053500e32ff1f1ab8b12051cb9eaa765672148430c6401fd"
   }
  }
 },
 "nbformat": 4,
 "nbformat_minor": 2
}
