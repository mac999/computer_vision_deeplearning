{
 "cells": [
  {
   "cell_type": "code",
   "execution_count": 1,
   "metadata": {},
   "outputs": [],
   "source": [
    "def calc_iou(b1, b2):\n",
    "    # determine the (x, y)-coordinates of the intersection rectangle\n",
    "    xA = max(b1[0], b2[0])\n",
    "    yA = max(b1[1], b2[1])\n",
    "    xB = min(b1[2], b2[2])\n",
    "    yB = min(b1[3], b2[3])\n",
    "    # compute the area of intersection rectangle\n",
    "    area_intersect = (xB - xA) * (yB - yA)\n",
    "\n",
    "    # Calculate area of boxes\n",
    "    area_b1 = (b1[2] - b1[0]) * (b1[3] - b1[1])\n",
    "    area_b2 = (b2[2] - b2[0]) * (b2[3] - b2[1])\n",
    "\n",
    "    # areas - the intersection area\n",
    "    epsilon = 1e-6\n",
    "    iou = area_intersect / float(area_b1 + area_b2 - area_intersect + epsilon)\n",
    "    return iou\n"
   ]
  },
  {
   "cell_type": "code",
   "execution_count": 2,
   "metadata": {},
   "outputs": [],
   "source": [
    "def non_max_suppress(conf, xy_min, xy_max, threshold=.4):\n",
    "    _, _, classes = conf.shape\n",
    "    boxes = [(_conf, _xy_min, _xy_max) for _conf, _xy_min, _xy_max in zip(conf.reshape(-1, classes), xy_min.reshape(-1, 2), xy_max.reshape(-1, 2))]\n",
    "\n",
    "    # Iterate each class\n",
    "    for c in range(classes):\n",
    "        # Sort boxes\n",
    "        boxes.sort(key=lambda box: box[0][c], reverse=True)\n",
    "        # Iterate each box\n",
    "        for i in range(len(boxes) - 1):\n",
    "            box = boxes[i]\n",
    "            if box[0][c] == 0:\n",
    "                continue\n",
    "            for _box in boxes[i + 1:]:\n",
    "                # Take iou threshold into account\n",
    "                if calc_iou(box[1], box[2], _box[1], _box[2]) >= threshold:\n",
    "                    _box[0][c] = 0\n",
    "    return boxes"
   ]
  },
  {
   "cell_type": "code",
   "execution_count": null,
   "metadata": {},
   "outputs": [],
   "source": []
  }
 ],
 "metadata": {
  "kernelspec": {
   "display_name": "Python 3.9.12 ('venv_tf2': venv)",
   "language": "python",
   "name": "python3"
  },
  "language_info": {
   "codemirror_mode": {
    "name": "ipython",
    "version": 3
   },
   "file_extension": ".py",
   "mimetype": "text/x-python",
   "name": "python",
   "nbconvert_exporter": "python",
   "pygments_lexer": "ipython3",
   "version": "3.9.12"
  },
  "orig_nbformat": 4,
  "vscode": {
   "interpreter": {
    "hash": "37036070bb288437053500e32ff1f1ab8b12051cb9eaa765672148430c6401fd"
   }
  }
 },
 "nbformat": 4,
 "nbformat_minor": 2
}
