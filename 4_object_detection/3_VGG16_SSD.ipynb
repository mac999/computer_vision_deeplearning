{
 "cells": [
  {
   "cell_type": "code",
   "execution_count": 1,
   "metadata": {},
   "outputs": [
    {
     "name": "stdout",
     "output_type": "stream",
     "text": [
      "(None, 300, 300, 3)\n",
      "Model: \"model\"\n",
      "_________________________________________________________________\n",
      " Layer (type)                Output Shape              Param #   \n",
      "=================================================================\n",
      " input_1 (InputLayer)        [(None, 300, 300, 3)]     0         \n",
      "                                                                 \n",
      " conv1_1 (Conv2D)            (None, 300, 300, 64)      1792      \n",
      "                                                                 \n",
      " conv1_2 (Conv2D)            (None, 300, 300, 64)      36928     \n",
      "                                                                 \n",
      " pool1 (MaxPooling2D)        (None, 150, 150, 64)      0         \n",
      "                                                                 \n",
      " conv2_1 (Conv2D)            (None, 150, 150, 128)     73856     \n",
      "                                                                 \n",
      " conv2_2 (Conv2D)            (None, 150, 150, 128)     147584    \n",
      "                                                                 \n",
      " pool2 (MaxPooling2D)        (None, 75, 75, 128)       0         \n",
      "                                                                 \n",
      " conv3_1 (Conv2D)            (None, 75, 75, 256)       295168    \n",
      "                                                                 \n",
      " conv3_2 (Conv2D)            (None, 75, 75, 256)       590080    \n",
      "                                                                 \n",
      " conv3_3 (Conv2D)            (None, 75, 75, 256)       590080    \n",
      "                                                                 \n",
      " pool3 (MaxPooling2D)        (None, 38, 38, 256)       0         \n",
      "                                                                 \n",
      " conv4_1 (Conv2D)            (None, 38, 38, 512)       1180160   \n",
      "                                                                 \n",
      " conv4_2 (Conv2D)            (None, 38, 38, 512)       2359808   \n",
      "                                                                 \n",
      " conv4_3 (Conv2D)            (None, 38, 38, 512)       2359808   \n",
      "                                                                 \n",
      " pool4 (MaxPooling2D)        (None, 19, 19, 512)       0         \n",
      "                                                                 \n",
      " conv5_1 (Conv2D)            (None, 19, 19, 512)       2359808   \n",
      "                                                                 \n",
      " conv5_2 (Conv2D)            (None, 19, 19, 512)       2359808   \n",
      "                                                                 \n",
      " conv5_3 (Conv2D)            (None, 19, 19, 512)       2359808   \n",
      "                                                                 \n",
      " pool5 (MaxPooling2D)        (None, 19, 19, 512)       0         \n",
      "                                                                 \n",
      "=================================================================\n",
      "Total params: 14,714,688\n",
      "Trainable params: 14,714,688\n",
      "Non-trainable params: 0\n",
      "_________________________________________________________________\n"
     ]
    }
   ],
   "source": [
    "from keras.models import Model\n",
    "from keras.layers import Input, Lambda, Activation, Conv2D, MaxPooling2D, ZeroPadding2D, Reshape, Concatenate\n",
    "from keras.regularizers import l2\n",
    "import keras.backend as K\n",
    "\n",
    "def VGG16_SSD(x):\n",
    "    img_height = x.shape[1]\n",
    "    img_width = x.shape[2]\n",
    "    img_channels = x.shape[3]\n",
    "\n",
    "    l2_reg = 0.0005 \n",
    "\n",
    "    conv1_1 = Conv2D(64, (3, 3), activation='relu', padding='same', kernel_regularizer=l2(l2_reg), name='conv1_1')(x)\n",
    "    conv1_2 = Conv2D(64, (3, 3), activation='relu', padding='same', kernel_regularizer=l2(l2_reg), name='conv1_2')(conv1_1)\n",
    "    pool1 = MaxPooling2D(pool_size=(2, 2), strides=(2, 2), padding='same', name='pool1')(conv1_2)\n",
    "\n",
    "    conv2_1 = Conv2D(128, (3, 3), activation='relu', padding='same', kernel_regularizer=l2(l2_reg), name='conv2_1')(pool1)\n",
    "    conv2_2 = Conv2D(128, (3, 3), activation='relu', padding='same', kernel_regularizer=l2(l2_reg), name='conv2_2')(conv2_1)\n",
    "    pool2 = MaxPooling2D(pool_size=(2, 2), strides=(2, 2), padding='same', name='pool2')(conv2_2)\n",
    "\n",
    "    conv3_1 = Conv2D(256, (3, 3), activation='relu', padding='same', kernel_regularizer=l2(l2_reg), name='conv3_1')(pool2)\n",
    "    conv3_2 = Conv2D(256, (3, 3), activation='relu', padding='same', kernel_regularizer=l2(l2_reg), name='conv3_2')(conv3_1)\n",
    "    conv3_3 = Conv2D(256, (3, 3), activation='relu', padding='same', kernel_regularizer=l2(l2_reg), name='conv3_3')(conv3_2)\n",
    "    pool3 = MaxPooling2D(pool_size=(2, 2), strides=(2, 2), padding='same', name='pool3')(conv3_3)\n",
    "\n",
    "    conv4_1 = Conv2D(512, (3, 3), activation='relu', padding='same', kernel_regularizer=l2(l2_reg), name='conv4_1')(pool3)\n",
    "    conv4_2 = Conv2D(512, (3, 3), activation='relu', padding='same', kernel_regularizer=l2(l2_reg), name='conv4_2')(conv4_1)\n",
    "    conv4_3 = Conv2D(512, (3, 3), activation='relu', padding='same', kernel_regularizer=l2(l2_reg), name='conv4_3')(conv4_2)\n",
    "    pool4 = MaxPooling2D(pool_size=(2, 2), strides=(2, 2), padding='same', name='pool4')(conv4_3)\n",
    "\n",
    "    conv5_1 = Conv2D(512, (3, 3), activation='relu', padding='same', kernel_regularizer=l2(l2_reg), name='conv5_1')(pool4)\n",
    "    conv5_2 = Conv2D(512, (3, 3), activation='relu', padding='same', kernel_regularizer=l2(l2_reg), name='conv5_2')(conv5_1)\n",
    "    conv5_3 = Conv2D(512, (3, 3), activation='relu', padding='same', kernel_regularizer=l2(l2_reg), name='conv5_3')(conv5_2)\n",
    "    pool5 = MaxPooling2D(pool_size=(3, 3), strides=(1, 1), padding='same', name='pool5')(conv5_3)\n",
    "\n",
    "    return pool5\n",
    "\n",
    "x = Input(shape=(300, 300, 3))\n",
    "print(x.shape)\n",
    "\n",
    "pool5 = VGG16_SSD(x)\n",
    "# add Conv6 ... Con11_2\n",
    "\n",
    "model = Model(inputs=x, outputs=pool5)\n",
    "model.summary()"
   ]
  },
  {
   "cell_type": "code",
   "execution_count": null,
   "metadata": {},
   "outputs": [],
   "source": []
  }
 ],
 "metadata": {
  "kernelspec": {
   "display_name": "Python 3.9.12 ('venv_tf2': venv)",
   "language": "python",
   "name": "python3"
  },
  "language_info": {
   "codemirror_mode": {
    "name": "ipython",
    "version": 3
   },
   "file_extension": ".py",
   "mimetype": "text/x-python",
   "name": "python",
   "nbconvert_exporter": "python",
   "pygments_lexer": "ipython3",
   "version": "3.9.12"
  },
  "orig_nbformat": 4,
  "vscode": {
   "interpreter": {
    "hash": "37036070bb288437053500e32ff1f1ab8b12051cb9eaa765672148430c6401fd"
   }
  }
 },
 "nbformat": 4,
 "nbformat_minor": 2
}
