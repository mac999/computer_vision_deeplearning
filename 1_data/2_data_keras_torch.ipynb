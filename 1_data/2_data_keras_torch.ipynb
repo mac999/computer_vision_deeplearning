{
 "cells": [
  {
   "cell_type": "markdown",
   "metadata": {},
   "source": [
    "Keras shape"
   ]
  },
  {
   "cell_type": "code",
   "execution_count": 3,
   "metadata": {},
   "outputs": [
    {
     "name": "stdout",
     "output_type": "stream",
     "text": [
      "tf.Tensor(\n",
      "[[-0.3872332   0.31019062 -1.0423132 ]\n",
      " [ 0.307531   -0.24794483 -0.9762641 ]], shape=(2, 3), dtype=float32)\n",
      "tf.Tensor(\n",
      "[[-0.25699693  1.048905   -0.2730164 ]\n",
      " [-0.5675182   0.25650707 -1.7709384 ]], shape=(2, 3), dtype=float32)\n",
      "(2, 3)\n",
      "tf.Tensor(\n",
      "[[-0.6442301   1.3590956  -1.3153296 ]\n",
      " [-0.25998718  0.00856224 -2.7472024 ]], shape=(2, 3), dtype=float32)\n"
     ]
    }
   ],
   "source": [
    "import tensorflow as tf\n",
    "\n",
    "input_shape = (2, 3)\n",
    "x1 = tf.random.normal(input_shape, mean=0.0, stddev=1.0)\n",
    "x2 = tf.random.normal(input_shape)\n",
    "y = tf.keras.layers.Add()([x1, x2])\n",
    "\n",
    "print(x1)\n",
    "print(x2)\n",
    "print(y.shape)\n",
    "print(y)\n"
   ]
  },
  {
   "cell_type": "code",
   "execution_count": 4,
   "metadata": {},
   "outputs": [
    {
     "name": "stdout",
     "output_type": "stream",
     "text": [
      "(None, 3, 4)\n",
      "(None, 3, 2, 2)\n"
     ]
    }
   ],
   "source": [
    "model = tf.keras.Sequential()\n",
    "rs = tf.keras.layers.Reshape((3, 4), input_shape=(12,))\n",
    "model.add(rs)\n",
    "s = model.output_shape  # (None, 3, 4). # (mini batch size, 3, 4)\n",
    "print(s)\n",
    "model.add(tf.keras.layers.Reshape((-1, 2, 2)))   # (None, 3, 2, 2)\n",
    "s = model.output_shape  # (None, 3, 4)\n",
    "print(s)"
   ]
  },
  {
   "cell_type": "markdown",
   "metadata": {},
   "source": [
    "PyTorch shape"
   ]
  },
  {
   "cell_type": "code",
   "execution_count": 6,
   "metadata": {},
   "outputs": [
    {
     "name": "stdout",
     "output_type": "stream",
     "text": [
      "reshape\n",
      "torch.Size([2, 3, 4])\n",
      "tensor([[[ 0,  1,  2,  3],\n",
      "         [ 4,  5,  6,  7],\n",
      "         [ 8,  9, 10, 11]],\n",
      "\n",
      "        [[12, 13, 14, 15],\n",
      "         [16, 17, 18, 19],\n",
      "         [20, 21, 22, 23]]])\n",
      "torch.Size([2, 12])\n",
      "tensor([[ 0,  1,  2,  3,  4,  5,  6,  7,  8,  9, 10, 11],\n",
      "        [12, 13, 14, 15, 16, 17, 18, 19, 20, 21, 22, 23]])\n",
      "unsqueeze= torch.Size([1, 2, 12])\n",
      "tensor([[[ 0,  1,  2,  3,  4,  5,  6,  7,  8,  9, 10, 11],\n",
      "         [12, 13, 14, 15, 16, 17, 18, 19, 20, 21, 22, 23]]])\n",
      "squeeze= torch.Size([2, 12])\n",
      "tensor([[ 0,  1,  2,  3,  4,  5,  6,  7,  8,  9, 10, 11],\n",
      "        [12, 13, 14, 15, 16, 17, 18, 19, 20, 21, 22, 23]])\n"
     ]
    }
   ],
   "source": [
    "import torch \n",
    "\n",
    "print('reshape')\n",
    "x = torch.arange(24).reshape(2, 3, 4) # torch.rand(2, 3, 4)  # [2, 3, 4] \n",
    "s = x.shape\n",
    "print(s)\n",
    "print(x)\n",
    "y = x.view(2, -1)  # [2, 12] \n",
    "print(y.shape)\n",
    "print(y)\n",
    "z = y.unsqueeze(0)\n",
    "print('unsqueeze=', z.shape)\n",
    "print(z)\n",
    "z = z.squeeze(0)\n",
    "print('squeeze=', z.shape)\n",
    "print(z)"
   ]
  },
  {
   "cell_type": "code",
   "execution_count": 7,
   "metadata": {},
   "outputs": [
    {
     "name": "stdout",
     "output_type": "stream",
     "text": [
      "\n",
      "permute\n",
      "torch.Size([1, 5])\n",
      "tensor([[0, 1, 2, 3, 4]])\n",
      "transpose= torch.Size([5, 1])\n",
      "tensor([[0],\n",
      "        [1],\n",
      "        [2],\n",
      "        [3],\n",
      "        [4]])\n",
      "permute= torch.Size([5, 1])\n",
      "tensor([[0],\n",
      "        [1],\n",
      "        [2],\n",
      "        [3],\n",
      "        [4]])\n",
      "torch.Size([3, 32, 32])\n",
      "torch.Size([32, 32, 3])\n"
     ]
    }
   ],
   "source": [
    "print('\\npermute')\n",
    "x = torch.arange(0, 5).reshape(1, 5)\n",
    "print(x.shape)\n",
    "print(x)\n",
    "y = x.transpose(0, 1)  # [5, 1].\n",
    "print('transpose=', y.shape)\n",
    "print(y)\n",
    "z = x.permute(1, 0)  # [5, 1]. \n",
    "print('permute=', z.shape)\n",
    "print(z)\n",
    "\n",
    "x = torch.arange(0, 3 * 32 * 32).reshape(3, 32, 32) # (3, 32, 32) > permute(2, 1, 0) > (32, 32, 3)\n",
    "print(x.shape)\n",
    "z = x.permute(2, 1, 0)\n",
    "print(z.shape)"
   ]
  },
  {
   "cell_type": "code",
   "execution_count": 55,
   "metadata": {},
   "outputs": [
    {
     "name": "stdout",
     "output_type": "stream",
     "text": [
      "tensor([[[1, 7],\n",
      "         [2, 5],\n",
      "         [0, 3],\n",
      "         [9, 8]],\n",
      "\n",
      "        [[7, 3],\n",
      "         [9, 7],\n",
      "         [4, 9],\n",
      "         [3, 4]],\n",
      "\n",
      "        [[5, 8],\n",
      "         [7, 9],\n",
      "         [4, 7],\n",
      "         [8, 5]]])\n",
      "tensor([[1, 2],\n",
      "        [1, 2],\n",
      "        [1, 1],\n",
      "        [0, 0]])\n",
      "tensor([[3, 3],\n",
      "        [1, 2],\n",
      "        [3, 1]])\n"
     ]
    }
   ],
   "source": [
    "x = torch.randint(10, (3, 4, 2))\n",
    "print(x)\n",
    "y = torch.argmax(x, dim=0)  # return max index, dim=collapse. \n",
    "print(y)\n",
    "z = torch.argmax(x, dim=1)  # return max index, dim=collapse. \n",
    "print(z)"
   ]
  },
  {
   "cell_type": "code",
   "execution_count": 56,
   "metadata": {},
   "outputs": [
    {
     "name": "stdout",
     "output_type": "stream",
     "text": [
      "Model: \"sequential_10\"\n",
      "_________________________________________________________________\n",
      " Layer (type)                Output Shape              Param #   \n",
      "=================================================================\n",
      " conv2d_2 (Conv2D)           (None, 30, 30, 32)        896       \n",
      "                                                                 \n",
      " max_pooling2d_2 (MaxPooling  (None, 15, 15, 32)       0         \n",
      " 2D)                                                             \n",
      "                                                                 \n",
      " conv2d_3 (Conv2D)           (None, 13, 13, 16)        4624      \n",
      "                                                                 \n",
      " max_pooling2d_3 (MaxPooling  (None, 6, 6, 16)         0         \n",
      " 2D)                                                             \n",
      "                                                                 \n",
      " flatten_1 (Flatten)         (None, 576)               0         \n",
      "                                                                 \n",
      " dense_1 (Dense)             (None, 10)                5770      \n",
      "                                                                 \n",
      "=================================================================\n",
      "Total params: 11,290\n",
      "Trainable params: 11,290\n",
      "Non-trainable params: 0\n",
      "_________________________________________________________________\n"
     ]
    }
   ],
   "source": []
  }
 ],
 "metadata": {
  "kernelspec": {
   "display_name": "Python 3.9.12 ('venv_tf2': venv)",
   "language": "python",
   "name": "python3"
  },
  "language_info": {
   "codemirror_mode": {
    "name": "ipython",
    "version": 3
   },
   "file_extension": ".py",
   "mimetype": "text/x-python",
   "name": "python",
   "nbconvert_exporter": "python",
   "pygments_lexer": "ipython3",
   "version": "3.9.12"
  },
  "orig_nbformat": 4,
  "vscode": {
   "interpreter": {
    "hash": "37036070bb288437053500e32ff1f1ab8b12051cb9eaa765672148430c6401fd"
   }
  }
 },
 "nbformat": 4,
 "nbformat_minor": 2
}
