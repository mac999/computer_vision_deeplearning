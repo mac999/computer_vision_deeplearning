{
 "cells": [
  {
   "cell_type": "markdown",
   "metadata": {},
   "source": [
    "<h4>CoLab</h4>\n",
    "https://colab.research.google.com/"
   ]
  },
  {
   "cell_type": "markdown",
   "metadata": {},
   "source": [
    "https://colab.research.google.com/drive/1ZIGJffpJ83x4X0snfGk1eED1q2rtnu1d#scrollTo=wtJ9N1JSUfwq"
   ]
  },
  {
   "cell_type": "markdown",
   "metadata": {},
   "source": []
  }
 ],
 "metadata": {
  "kernelspec": {
   "display_name": "Python 3.9.12 64-bit",
   "language": "python",
   "name": "python3"
  },
  "language_info": {
   "name": "python",
   "version": "3.9.12"
  },
  "orig_nbformat": 4,
  "vscode": {
   "interpreter": {
    "hash": "3a6558581245425ec6392515be2912b64b6da9a12ee0f740d800438d33c01aa5"
   }
  }
 },
 "nbformat": 4,
 "nbformat_minor": 2
}
