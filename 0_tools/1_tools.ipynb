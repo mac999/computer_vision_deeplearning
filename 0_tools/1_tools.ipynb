{
 "cells": [
  {
   "cell_type": "markdown",
   "metadata": {},
   "source": [
    "Install NVIDIA driver * for Ubuntu, https://ubuntu.com/ </br>\n",
    "Install CUDA 11.3  </br>\n",
    "Install cuDNN 11.x and path setting </br>\n",
    "Install python (3.9.12) * python (3.7.4) for tensorflow 1.x  </br>\n",
    "setup CUDA environment variable, path </br>\n",
    "cmd *관리자 권한 </br>\n",
    "pip install tensorflow (v2) </br>\n",
    "pip3 install torch torchvision torchaudio --extra-index-url https://download.pytorch.org/whl/cu113 </br>\n",
    "pip install virtualenv </br>\n",
    "Install vscode </br>\n",
    "Install sublime </br>\n",
    "Install Cmake </br> https://cmake.org/install/\n",
    "Install git * https://git-scm.com/ </br>\n",
    "Install C++ Build Tools * optinal. https://visualstudio.microsoft.com/ko/visual-cpp-build-tools/ </br>\n",
    "Install staruml * optional. https://sourceforge.net/projects/staruml/files/staruml/5.0/staruml-5.0-with-cm.exe/download </br>\n",
    "pip install -r tf2_requirements.txt * for tf1.x, tf1_requirements.txt </br>\n",
    "pip install jupyterlab </br>\n",
    "pip install ipywidgets </br>\n",
    "\n"
   ]
  },
  {
   "cell_type": "markdown",
   "metadata": {},
   "source": []
  }
 ],
 "metadata": {
  "kernelspec": {
   "display_name": "Python 3.9.12 64-bit",
   "language": "python",
   "name": "python3"
  },
  "language_info": {
   "name": "python",
   "version": "3.9.12"
  },
  "orig_nbformat": 4,
  "vscode": {
   "interpreter": {
    "hash": "3a6558581245425ec6392515be2912b64b6da9a12ee0f740d800438d33c01aa5"
   }
  }
 },
 "nbformat": 4,
 "nbformat_minor": 2
}
