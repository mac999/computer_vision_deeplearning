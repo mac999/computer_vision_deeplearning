{
 "cells": [
  {
   "cell_type": "code",
   "execution_count": 1,
   "metadata": {},
   "outputs": [
    {
     "name": "stdout",
     "output_type": "stream",
     "text": [
      "Model: \"sequential\"\n",
      "_________________________________________________________________\n",
      " Layer (type)                Output Shape              Param #   \n",
      "=================================================================\n",
      " conv2d (Conv2D)             (None, 30, 30, 32)        896       \n",
      "                                                                 \n",
      " max_pooling2d (MaxPooling2D  (None, 15, 15, 32)       0         \n",
      " )                                                               \n",
      "                                                                 \n",
      " conv2d_1 (Conv2D)           (None, 13, 13, 16)        4624      \n",
      "                                                                 \n",
      " max_pooling2d_1 (MaxPooling  (None, 6, 6, 16)         0         \n",
      " 2D)                                                             \n",
      "                                                                 \n",
      " flatten (Flatten)           (None, 576)               0         \n",
      "                                                                 \n",
      " dense (Dense)               (None, 10)                5770      \n",
      "                                                                 \n",
      "=================================================================\n",
      "Total params: 11,290\n",
      "Trainable params: 11,290\n",
      "Non-trainable params: 0\n",
      "_________________________________________________________________\n"
     ]
    }
   ],
   "source": [
    "from keras.models import Sequential\n",
    "from keras.layers import Dense, Dropout, Conv2D, MaxPool2D, Flatten\n",
    "\n",
    "model = Sequential()\n",
    "model.add(Conv2D(32, (3, 3), activation='relu', input_shape=(32, 32, 3)))\n",
    "model.add(MaxPool2D())\n",
    "model.add(Conv2D(16, (3, 3), activation='relu'))\n",
    "model.add(MaxPool2D())\n",
    "model.add(Flatten())\n",
    "model.add(Dense(10, activation='softmax'))\n",
    "model.summary()\n"
   ]
  },
  {
   "cell_type": "code",
   "execution_count": 2,
   "metadata": {},
   "outputs": [
    {
     "name": "stdout",
     "output_type": "stream",
     "text": [
      "torch.Size([1, 3, 32, 32])\n",
      "conv1(x)=(torch.Size([1, 32, 30, 30]))\n",
      "pool(x)=(torch.Size([1, 32, 15, 15]))\n",
      "pool(conv2)=(torch.Size([1, 16, 6, 6]))\n",
      "log_softmax=tensor([[ -82.1605, -759.8065, -445.3680, -367.8447, -369.8665, -160.6333,\n",
      "         -402.4622, -200.7516,    0.0000, -370.9247]],\n",
      "       grad_fn=<LogSoftmaxBackward0>), (torch.Size([1, 10]))\n",
      "Net(\n",
      "  (conv1): Conv2d(3, 32, kernel_size=(3, 3), stride=(1, 1))\n",
      "  (conv2): Conv2d(32, 16, kernel_size=(3, 3), stride=(1, 1))\n",
      "  (fc1): Linear(in_features=576, out_features=10, bias=True)\n",
      "  (pool): MaxPool2d(kernel_size=2, stride=2, padding=0, dilation=1, ceil_mode=False)\n",
      ")\n",
      "torch.Size([1, 10])\n",
      "tensor([[ -82.1605, -759.8065, -445.3680, -367.8447, -369.8665, -160.6333,\n",
      "         -402.4622, -200.7516,    0.0000, -370.9247]],\n",
      "       grad_fn=<LogSoftmaxBackward0>)\n"
     ]
    }
   ],
   "source": [
    "from tokenize import Double\n",
    "import torch\n",
    "\n",
    "nn = torch.nn\n",
    "F = torch.nn.functional\n",
    "\n",
    "class Net(nn.Module):\n",
    "    def __init__(self):\n",
    "        super(Net, self).__init__()\n",
    "        self.conv1 = nn.Conv2d(3, 32, 3)    # in ch, out ch, kernel size, stride=1, padding=0\n",
    "        self.conv2 = nn.Conv2d(32, 16, 3, padding=0)\n",
    "        self.fc1 = nn.Linear(16 * 6 * 6, 10)\n",
    "        self.pool = nn.MaxPool2d(2, 2)\n",
    "\n",
    "    def forward(self, x):\n",
    "        x = self.conv1(x)\n",
    "        print(f'conv1(x)=({x.shape})')   # x(1,3,32,32) > conv > x(1,32,30,30)\n",
    "        x = self.pool(F.relu(x))        # x > pool > x(1,32,15,15)\n",
    "        print(f'pool(x)=({x.shape})')\n",
    "        x = self.pool(F.relu(self.conv2(x)))    # (1,16,13,13) > (1,16,6,6)\n",
    "        print(f'pool(conv2)=({x.shape})')   # torch.Size([1,16,6,6])\n",
    "        x = x.view(-1, 16 * 6 * 6)\n",
    "        x = F.log_softmax(self.fc1(x), dim=-1)\n",
    "        print(f'log_softmax={x}, ({x.shape})')\n",
    "        return x\n",
    "        \n",
    "model = Net()\n",
    "# x = torch.rand(1, 3, 32, 32)\n",
    "x = torch.arange(3 * 32 * 32)\n",
    "x = x.reshape(1, 3, 32, 32).float()\n",
    "print(x.shape)\n",
    "# print(x)\n",
    "\n",
    "yhat = model.forward(x)\n",
    "print(model)\n",
    "print(yhat.shape)\n",
    "print(yhat)"
   ]
  },
  {
   "cell_type": "code",
   "execution_count": null,
   "metadata": {},
   "outputs": [],
   "source": []
  }
 ],
 "metadata": {
  "kernelspec": {
   "display_name": "Python 3.9.12 ('venv_tf2': venv)",
   "language": "python",
   "name": "python3"
  },
  "language_info": {
   "codemirror_mode": {
    "name": "ipython",
    "version": 3
   },
   "file_extension": ".py",
   "mimetype": "text/x-python",
   "name": "python",
   "nbconvert_exporter": "python",
   "pygments_lexer": "ipython3",
   "version": "3.9.12"
  },
  "orig_nbformat": 4,
  "vscode": {
   "interpreter": {
    "hash": "37036070bb288437053500e32ff1f1ab8b12051cb9eaa765672148430c6401fd"
   }
  }
 },
 "nbformat": 4,
 "nbformat_minor": 2
}
